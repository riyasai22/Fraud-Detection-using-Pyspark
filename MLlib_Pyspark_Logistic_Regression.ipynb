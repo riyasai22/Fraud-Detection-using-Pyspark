{
  "nbformat": 4,
  "nbformat_minor": 0,
  "metadata": {
    "colab": {
      "provenance": []
    },
    "kernelspec": {
      "name": "python3",
      "display_name": "Python 3"
    },
    "language_info": {
      "name": "python"
    }
  },
  "cells": [
    {
      "cell_type": "markdown",
      "source": [
        "## Fraud Detection on PaySim Dataset\n"
      ],
      "metadata": {
        "id": "ZDQ2Uv303SdX"
      }
    },
    {
      "cell_type": "markdown",
      "source": [
        "\n",
        "### Dataset:\n",
        "\n",
        "PaySim is a public synthetically generated dataset that uses aggregated data from the private dataset that resembles the normal operation of transactions and injects malicious behaviour to later evaluate the performance of fraud detection methods.\n",
        "\n",
        "### Features Used:\n",
        "\n",
        "- **type** - CASH-IN, CASH-OUT, DEBIT, PAYMENT and TRANSFER.\n",
        "- **amount** - amount of the transaction in local currency.\n",
        "- **nameOrig** - customer who started the transaction\n",
        "- **oldbalanceOrg** - initial balance before the transaction\n",
        "- **newbalanceOrig** - new balance after the transaction\n",
        "- **nameDest** - customer who is the recipient of the transaction\n",
        "- **oldbalanceDest** - initial balance recipient before the transaction. Note that there is not information for customers that start with M (Merchants).\n",
        "- **newbalanceDest** - new balance recipient after the transaction. Note that there is not information for customers that start with M (Merchants).\n",
        "- **isFraud** - This is the transactions made by the fraudulent agents inside the simulation. In this specific dataset the fraudulent behavior of the agents aims to profit by taking control or customers accounts and try to empty the funds by transferring to another account and then cashing out of the system.\n",
        "\n"
      ],
      "metadata": {
        "id": "a8YORlgZ3hF_"
      }
    },
    {
      "cell_type": "code",
      "execution_count": 79,
      "metadata": {
        "colab": {
          "base_uri": "https://localhost:8080/"
        },
        "id": "R8G17MeVyFld",
        "outputId": "4532df71-ff96-48c8-893e-55368af0bc12"
      },
      "outputs": [
        {
          "output_type": "stream",
          "name": "stdout",
          "text": [
            "Looking in indexes: https://pypi.org/simple, https://us-python.pkg.dev/colab-wheels/public/simple/\n",
            "Requirement already satisfied: pyspark in /usr/local/lib/python3.9/dist-packages (3.3.2)\n",
            "Requirement already satisfied: py4j==0.10.9.5 in /usr/local/lib/python3.9/dist-packages (from pyspark) (0.10.9.5)\n"
          ]
        }
      ],
      "source": [
        "!pip install pyspark"
      ]
    },
    {
      "cell_type": "code",
      "source": [
        "!pip install kaggle"
      ],
      "metadata": {
        "colab": {
          "base_uri": "https://localhost:8080/"
        },
        "id": "mgyJpRGszgqT",
        "outputId": "20ebcc5c-53b1-4f65-f676-39a946ba8c88"
      },
      "execution_count": 80,
      "outputs": [
        {
          "output_type": "stream",
          "name": "stdout",
          "text": [
            "Looking in indexes: https://pypi.org/simple, https://us-python.pkg.dev/colab-wheels/public/simple/\n",
            "Requirement already satisfied: kaggle in /usr/local/lib/python3.9/dist-packages (1.5.13)\n",
            "Requirement already satisfied: certifi in /usr/local/lib/python3.9/dist-packages (from kaggle) (2022.12.7)\n",
            "Requirement already satisfied: requests in /usr/local/lib/python3.9/dist-packages (from kaggle) (2.27.1)\n",
            "Requirement already satisfied: six>=1.10 in /usr/local/lib/python3.9/dist-packages (from kaggle) (1.16.0)\n",
            "Requirement already satisfied: python-slugify in /usr/local/lib/python3.9/dist-packages (from kaggle) (8.0.1)\n",
            "Requirement already satisfied: tqdm in /usr/local/lib/python3.9/dist-packages (from kaggle) (4.65.0)\n",
            "Requirement already satisfied: urllib3 in /usr/local/lib/python3.9/dist-packages (from kaggle) (1.26.15)\n",
            "Requirement already satisfied: python-dateutil in /usr/local/lib/python3.9/dist-packages (from kaggle) (2.8.2)\n",
            "Requirement already satisfied: text-unidecode>=1.3 in /usr/local/lib/python3.9/dist-packages (from python-slugify->kaggle) (1.3)\n",
            "Requirement already satisfied: idna<4,>=2.5 in /usr/local/lib/python3.9/dist-packages (from requests->kaggle) (3.4)\n",
            "Requirement already satisfied: charset-normalizer~=2.0.0 in /usr/local/lib/python3.9/dist-packages (from requests->kaggle) (2.0.12)\n"
          ]
        }
      ]
    },
    {
      "cell_type": "code",
      "source": [
        "! mkdir ~/.kaggle #create kaggle directory\n",
        "! cp kaggle.json ~/.kaggle/\n",
        "! chmod 600 ~/.kaggle/kaggle.json"
      ],
      "metadata": {
        "colab": {
          "base_uri": "https://localhost:8080/"
        },
        "id": "vdjiEwMDzqcp",
        "outputId": "60655e52-5311-4b8d-a1c2-7b0b34f1e7c8"
      },
      "execution_count": 81,
      "outputs": [
        {
          "output_type": "stream",
          "name": "stdout",
          "text": [
            "mkdir: cannot create directory ‘/root/.kaggle’: File exists\n"
          ]
        }
      ]
    },
    {
      "cell_type": "code",
      "source": [
        "!kaggle datasets download -d ealaxi/paysim1"
      ],
      "metadata": {
        "colab": {
          "base_uri": "https://localhost:8080/"
        },
        "id": "SQhKNBfdztLC",
        "outputId": "d5983fb5-9a4d-411f-b508-ae2df05de5de"
      },
      "execution_count": 82,
      "outputs": [
        {
          "output_type": "stream",
          "name": "stdout",
          "text": [
            "paysim1.zip: Skipping, found more recently modified local copy (use --force to force download)\n"
          ]
        }
      ]
    },
    {
      "cell_type": "code",
      "source": [
        "from zipfile import ZipFile\n",
        "\n",
        "dataset='/content/paysim1.zip'\n",
        "with ZipFile(dataset,'r') as zi:\n",
        "  zi.extractall()\n",
        "  print(\"Dataset is extracted\")"
      ],
      "metadata": {
        "colab": {
          "base_uri": "https://localhost:8080/"
        },
        "id": "dG3OfUQp0qcY",
        "outputId": "f018075c-e137-4df2-831a-0febe4f1aea2"
      },
      "execution_count": 83,
      "outputs": [
        {
          "output_type": "stream",
          "name": "stdout",
          "text": [
            "Dataset is extracted\n"
          ]
        }
      ]
    },
    {
      "cell_type": "code",
      "source": [
        "from pyspark.sql import SparkSession\n",
        "import pyspark.sql.functions as F\n",
        "import pyspark.sql.types as T"
      ],
      "metadata": {
        "id": "1ARRBPtpySQz"
      },
      "execution_count": 84,
      "outputs": []
    },
    {
      "cell_type": "code",
      "source": [
        "spark=SparkSession.builder.getOrCreate()"
      ],
      "metadata": {
        "id": "8FGavUOjyz5j"
      },
      "execution_count": 85,
      "outputs": []
    },
    {
      "cell_type": "code",
      "source": [
        "spark"
      ],
      "metadata": {
        "colab": {
          "base_uri": "https://localhost:8080/",
          "height": 219
        },
        "id": "07O-cqUgy5Ru",
        "outputId": "53ed7e60-efd8-49c6-cb96-34f155a4f7d4"
      },
      "execution_count": 86,
      "outputs": [
        {
          "output_type": "execute_result",
          "data": {
            "text/plain": [
              "<pyspark.sql.session.SparkSession at 0x7ff9e19aa1f0>"
            ],
            "text/html": [
              "\n",
              "            <div>\n",
              "                <p><b>SparkSession - in-memory</b></p>\n",
              "                \n",
              "        <div>\n",
              "            <p><b>SparkContext</b></p>\n",
              "\n",
              "            <p><a href=\"http://bbd67ed9f52c:4040\">Spark UI</a></p>\n",
              "\n",
              "            <dl>\n",
              "              <dt>Version</dt>\n",
              "                <dd><code>v3.3.2</code></dd>\n",
              "              <dt>Master</dt>\n",
              "                <dd><code>local[*]</code></dd>\n",
              "              <dt>AppName</dt>\n",
              "                <dd><code>pyspark-shell</code></dd>\n",
              "            </dl>\n",
              "        </div>\n",
              "        \n",
              "            </div>\n",
              "        "
            ]
          },
          "metadata": {},
          "execution_count": 86
        }
      ]
    },
    {
      "cell_type": "code",
      "source": [
        "import os\n",
        "from os.path import isfile, join\n",
        "\n",
        "data_loc=\"/content/data.csv\""
      ],
      "metadata": {
        "id": "MCae6cs9y8ZO"
      },
      "execution_count": 87,
      "outputs": []
    },
    {
      "cell_type": "code",
      "source": [
        "print(data_loc)"
      ],
      "metadata": {
        "colab": {
          "base_uri": "https://localhost:8080/"
        },
        "id": "EXaHhyxq171I",
        "outputId": "87af01b6-c604-4cfc-a9be-c246ea64b45c"
      },
      "execution_count": 88,
      "outputs": [
        {
          "output_type": "stream",
          "name": "stdout",
          "text": [
            "/content/data.csv\n"
          ]
        }
      ]
    },
    {
      "cell_type": "code",
      "source": [
        "df=spark.read.option('header','true').csv(data_loc)"
      ],
      "metadata": {
        "id": "TiMBp3e8zTed"
      },
      "execution_count": 89,
      "outputs": []
    },
    {
      "cell_type": "code",
      "source": [
        "df.printSchema()"
      ],
      "metadata": {
        "colab": {
          "base_uri": "https://localhost:8080/"
        },
        "id": "h5SCuVx92Jnz",
        "outputId": "4cd9c8ba-49ec-4d91-9511-1732f37adbb4"
      },
      "execution_count": 90,
      "outputs": [
        {
          "output_type": "stream",
          "name": "stdout",
          "text": [
            "root\n",
            " |-- step: string (nullable = true)\n",
            " |-- type: string (nullable = true)\n",
            " |-- amount: string (nullable = true)\n",
            " |-- nameOrig: string (nullable = true)\n",
            " |-- oldbalanceOrg: string (nullable = true)\n",
            " |-- newbalanceOrig: string (nullable = true)\n",
            " |-- nameDest: string (nullable = true)\n",
            " |-- oldbalanceDest: string (nullable = true)\n",
            " |-- newbalanceDest: string (nullable = true)\n",
            " |-- isFraud: string (nullable = true)\n",
            " |-- isFlaggedFraud: string (nullable = true)\n",
            "\n"
          ]
        }
      ]
    },
    {
      "cell_type": "code",
      "source": [
        "df.show(5)"
      ],
      "metadata": {
        "colab": {
          "base_uri": "https://localhost:8080/"
        },
        "id": "MgTef5Hf2Mc-",
        "outputId": "ae7e41b1-d877-425b-ca00-86dc09336691"
      },
      "execution_count": 91,
      "outputs": [
        {
          "output_type": "stream",
          "name": "stdout",
          "text": [
            "+----+--------+--------+-----------+-------------+--------------+-----------+--------------+--------------+-------+--------------+\n",
            "|step|    type|  amount|   nameOrig|oldbalanceOrg|newbalanceOrig|   nameDest|oldbalanceDest|newbalanceDest|isFraud|isFlaggedFraud|\n",
            "+----+--------+--------+-----------+-------------+--------------+-----------+--------------+--------------+-------+--------------+\n",
            "|   1| PAYMENT| 9839.64|C1231006815|     170136.0|     160296.36|M1979787155|           0.0|           0.0|      0|             0|\n",
            "|   1| PAYMENT| 1864.28|C1666544295|      21249.0|      19384.72|M2044282225|           0.0|           0.0|      0|             0|\n",
            "|   1|TRANSFER|   181.0|C1305486145|        181.0|           0.0| C553264065|           0.0|           0.0|      1|             0|\n",
            "|   1|CASH_OUT|   181.0| C840083671|        181.0|           0.0|  C38997010|       21182.0|           0.0|      1|             0|\n",
            "|   1| PAYMENT|11668.14|C2048537720|      41554.0|      29885.86|M1230701703|           0.0|           0.0|      0|             0|\n",
            "+----+--------+--------+-----------+-------------+--------------+-----------+--------------+--------------+-------+--------------+\n",
            "only showing top 5 rows\n",
            "\n"
          ]
        }
      ]
    },
    {
      "cell_type": "code",
      "source": [
        "df=df.select(\"type\",\"amount\",\"oldbalanceOrg\",\"newbalanceOrig\",\"isFraud\")"
      ],
      "metadata": {
        "id": "_Az4bgKT2WxS"
      },
      "execution_count": 92,
      "outputs": []
    },
    {
      "cell_type": "code",
      "source": [
        "df.show(5)"
      ],
      "metadata": {
        "colab": {
          "base_uri": "https://localhost:8080/"
        },
        "id": "AnGaKPzG2gaw",
        "outputId": "cf4c3b50-64fc-45b9-b830-b8f133ab3231"
      },
      "execution_count": 93,
      "outputs": [
        {
          "output_type": "stream",
          "name": "stdout",
          "text": [
            "+--------+--------+-------------+--------------+-------+\n",
            "|    type|  amount|oldbalanceOrg|newbalanceOrig|isFraud|\n",
            "+--------+--------+-------------+--------------+-------+\n",
            "| PAYMENT| 9839.64|     170136.0|     160296.36|      0|\n",
            "| PAYMENT| 1864.28|      21249.0|      19384.72|      0|\n",
            "|TRANSFER|   181.0|        181.0|           0.0|      1|\n",
            "|CASH_OUT|   181.0|        181.0|           0.0|      1|\n",
            "| PAYMENT|11668.14|      41554.0|      29885.86|      0|\n",
            "+--------+--------+-------------+--------------+-------+\n",
            "only showing top 5 rows\n",
            "\n"
          ]
        }
      ]
    },
    {
      "cell_type": "markdown",
      "source": [
        "Note: 'type' is a categorical column, requires preprocessing"
      ],
      "metadata": {
        "id": "tz9Fd7bN2pL7"
      }
    },
    {
      "cell_type": "markdown",
      "source": [
        "Columns - amount, oldbalanceOrg and newbalanceOrig are double type and isFraud is boolean, use .cast() to typecast the datatypes from string to double and bool"
      ],
      "metadata": {
        "id": "yM0h3uRx4Aaz"
      }
    },
    {
      "cell_type": "code",
      "source": [
        "df.dtypes"
      ],
      "metadata": {
        "colab": {
          "base_uri": "https://localhost:8080/"
        },
        "id": "f_G35LmZ5G1N",
        "outputId": "3f345a71-1ec3-4dd7-eb70-23e851c6a010"
      },
      "execution_count": 94,
      "outputs": [
        {
          "output_type": "execute_result",
          "data": {
            "text/plain": [
              "[('type', 'string'),\n",
              " ('amount', 'string'),\n",
              " ('oldbalanceOrg', 'string'),\n",
              " ('newbalanceOrig', 'string'),\n",
              " ('isFraud', 'string')]"
            ]
          },
          "metadata": {},
          "execution_count": 94
        }
      ]
    },
    {
      "cell_type": "code",
      "source": [
        "from pyspark.sql.functions import col"
      ],
      "metadata": {
        "id": "G7goyZv-4Xz8"
      },
      "execution_count": 95,
      "outputs": []
    },
    {
      "cell_type": "code",
      "source": [
        "df = df.withColumn(\"amount_double\", col(\"amount\").cast(\"double\")).drop(\"amount\")"
      ],
      "metadata": {
        "id": "rWRuqNtA3oeK"
      },
      "execution_count": 96,
      "outputs": []
    },
    {
      "cell_type": "code",
      "source": [
        "df.dtypes"
      ],
      "metadata": {
        "colab": {
          "base_uri": "https://localhost:8080/"
        },
        "id": "aIAS_ve_4ouw",
        "outputId": "0ee14b46-3647-4dd2-a128-a87e0f1ae0cb"
      },
      "execution_count": 97,
      "outputs": [
        {
          "output_type": "execute_result",
          "data": {
            "text/plain": [
              "[('type', 'string'),\n",
              " ('oldbalanceOrg', 'string'),\n",
              " ('newbalanceOrig', 'string'),\n",
              " ('isFraud', 'string'),\n",
              " ('amount_double', 'double')]"
            ]
          },
          "metadata": {},
          "execution_count": 97
        }
      ]
    },
    {
      "cell_type": "code",
      "source": [
        "df = df.withColumn(\"oldbalanceOrg\", col(\"oldbalanceOrg\").cast(\"double\"))\\\n",
        "      .withColumn(\"newbalanceOrig\",col(\"newbalanceOrig\").cast(\"double\"))\\\n",
        "      .withColumn(\"isFraud\",col(\"isFraud\").cast(\"int\"))"
      ],
      "metadata": {
        "id": "iaquXxgo5L08"
      },
      "execution_count": 98,
      "outputs": []
    },
    {
      "cell_type": "code",
      "source": [
        "df.dtypes"
      ],
      "metadata": {
        "colab": {
          "base_uri": "https://localhost:8080/"
        },
        "id": "PEgGQZpf6v4n",
        "outputId": "d656e67c-eb1e-4d91-a1f9-9ecba948161f"
      },
      "execution_count": 99,
      "outputs": [
        {
          "output_type": "execute_result",
          "data": {
            "text/plain": [
              "[('type', 'string'),\n",
              " ('oldbalanceOrg', 'double'),\n",
              " ('newbalanceOrig', 'double'),\n",
              " ('isFraud', 'int'),\n",
              " ('amount_double', 'double')]"
            ]
          },
          "metadata": {},
          "execution_count": 99
        }
      ]
    },
    {
      "cell_type": "code",
      "source": [
        "df = df.withColumnRenamed(\"amount_double\", \"amount\")"
      ],
      "metadata": {
        "id": "Skk56Yti61PK"
      },
      "execution_count": 100,
      "outputs": []
    },
    {
      "cell_type": "code",
      "source": [
        "df.show(5)"
      ],
      "metadata": {
        "colab": {
          "base_uri": "https://localhost:8080/"
        },
        "id": "73ZESOBd7GMP",
        "outputId": "fbdedeef-665b-47a9-f05f-cc38acacf394"
      },
      "execution_count": 101,
      "outputs": [
        {
          "output_type": "stream",
          "name": "stdout",
          "text": [
            "+--------+-------------+--------------+-------+--------+\n",
            "|    type|oldbalanceOrg|newbalanceOrig|isFraud|  amount|\n",
            "+--------+-------------+--------------+-------+--------+\n",
            "| PAYMENT|     170136.0|     160296.36|      0| 9839.64|\n",
            "| PAYMENT|      21249.0|      19384.72|      0| 1864.28|\n",
            "|TRANSFER|        181.0|           0.0|      1|   181.0|\n",
            "|CASH_OUT|        181.0|           0.0|      1|   181.0|\n",
            "| PAYMENT|      41554.0|      29885.86|      0|11668.14|\n",
            "+--------+-------------+--------------+-------+--------+\n",
            "only showing top 5 rows\n",
            "\n"
          ]
        }
      ]
    },
    {
      "cell_type": "markdown",
      "source": [
        "## Train Test Split"
      ],
      "metadata": {
        "id": "ZrNBE1FK4wQY"
      }
    },
    {
      "cell_type": "code",
      "source": [
        "#Train Test Split - Random Split\n",
        "train,test=df.randomSplit([0.7,0.3],seed=7)"
      ],
      "metadata": {
        "id": "QpqNEDPx3EwM"
      },
      "execution_count": 102,
      "outputs": []
    },
    {
      "cell_type": "code",
      "source": [
        "print(f\"Train set length: {train.count()} records\")\n",
        "print(f\"Test set length: {test.count()} records\")"
      ],
      "metadata": {
        "colab": {
          "base_uri": "https://localhost:8080/"
        },
        "id": "3va-zy7b2hqX",
        "outputId": "6c953e65-8b64-4523-d2a4-db8686b0e4aa"
      },
      "execution_count": 103,
      "outputs": [
        {
          "output_type": "stream",
          "name": "stdout",
          "text": [
            "Train set length: 4451490 records\n",
            "Test set length: 1911130 records\n"
          ]
        }
      ]
    },
    {
      "cell_type": "code",
      "source": [
        "train.show(5)"
      ],
      "metadata": {
        "colab": {
          "base_uri": "https://localhost:8080/"
        },
        "id": "a6vDuEE33VxL",
        "outputId": "2cb3d80a-647f-46d8-c7c5-8f520d6bdbbe"
      },
      "execution_count": 104,
      "outputs": [
        {
          "output_type": "stream",
          "name": "stdout",
          "text": [
            "+-------+-------------+--------------+-------+------+\n",
            "|   type|oldbalanceOrg|newbalanceOrig|isFraud|amount|\n",
            "+-------+-------------+--------------+-------+------+\n",
            "|CASH_IN|          0.0|          5.44|      0|  5.44|\n",
            "|CASH_IN|          0.0|         16.89|      0| 16.89|\n",
            "|CASH_IN|          0.0|         53.63|      0| 53.63|\n",
            "|CASH_IN|          0.0|         63.56|      0| 63.56|\n",
            "|CASH_IN|          0.0|        168.96|      0|168.96|\n",
            "+-------+-------------+--------------+-------+------+\n",
            "only showing top 5 rows\n",
            "\n"
          ]
        }
      ]
    },
    {
      "cell_type": "code",
      "source": [
        "catCols=[x for (x,dataType) in train.dtypes if dataType==\"string\"]\n",
        "numCols=[x for (x,dataType) in train.dtypes if ((dataType==\"double\") & (x!=\"isFraud\"))]"
      ],
      "metadata": {
        "id": "Yjhlx8Z_4tJO"
      },
      "execution_count": 105,
      "outputs": []
    },
    {
      "cell_type": "code",
      "source": [
        "print(numCols)\n",
        "print(catCols)"
      ],
      "metadata": {
        "colab": {
          "base_uri": "https://localhost:8080/"
        },
        "id": "MTyiNbYg9Efi",
        "outputId": "85d7d1df-5469-4304-b446-2b0436d7e880"
      },
      "execution_count": 106,
      "outputs": [
        {
          "output_type": "stream",
          "name": "stdout",
          "text": [
            "['oldbalanceOrg', 'newbalanceOrig', 'amount']\n",
            "['type']\n"
          ]
        }
      ]
    },
    {
      "cell_type": "markdown",
      "source": [
        "## One Hot Encoding"
      ],
      "metadata": {
        "id": "pooa56Oi9Zdl"
      }
    },
    {
      "cell_type": "code",
      "source": [
        "#stringIndexer - Converts a single feature to an index feature\n",
        "\n",
        "train.agg(F.countDistinct(\"type\")).show()"
      ],
      "metadata": {
        "colab": {
          "base_uri": "https://localhost:8080/"
        },
        "id": "38awJbDg9IlR",
        "outputId": "f798a08d-402f-4b24-d58d-d30580f7412d"
      },
      "execution_count": 107,
      "outputs": [
        {
          "output_type": "stream",
          "name": "stdout",
          "text": [
            "+-----------+\n",
            "|count(type)|\n",
            "+-----------+\n",
            "|          5|\n",
            "+-----------+\n",
            "\n"
          ]
        }
      ]
    },
    {
      "cell_type": "code",
      "source": [
        "train.groupBy(\"type\").count().show()"
      ],
      "metadata": {
        "colab": {
          "base_uri": "https://localhost:8080/"
        },
        "id": "E68PlKNuDlmf",
        "outputId": "2f643343-5552-4a36-95e0-a93d1776c5e2"
      },
      "execution_count": 108,
      "outputs": [
        {
          "output_type": "stream",
          "name": "stdout",
          "text": [
            "+--------+-------+\n",
            "|    type|  count|\n",
            "+--------+-------+\n",
            "|TRANSFER| 373084|\n",
            "| CASH_IN| 979536|\n",
            "|CASH_OUT|1566112|\n",
            "| PAYMENT|1503731|\n",
            "|   DEBIT|  29027|\n",
            "+--------+-------+\n",
            "\n"
          ]
        }
      ]
    },
    {
      "cell_type": "code",
      "source": [
        "from pyspark.ml.feature import (OneHotEncoder,StringIndexer)"
      ],
      "metadata": {
        "id": "uJaeGjgADzSG"
      },
      "execution_count": 109,
      "outputs": []
    },
    {
      "cell_type": "code",
      "source": [
        "string_indexer=[\n",
        "    StringIndexer(inputCol=x,outputCol=x+\"_StringIndexer\",handleInvalid=\"skip\")\n",
        "    for x in catCols\n",
        "]"
      ],
      "metadata": {
        "id": "W2ZtcixDD-i3"
      },
      "execution_count": 110,
      "outputs": []
    },
    {
      "cell_type": "code",
      "source": [
        "string_indexer"
      ],
      "metadata": {
        "colab": {
          "base_uri": "https://localhost:8080/"
        },
        "id": "UFYtRg10EPBO",
        "outputId": "2ea4c84c-4812-45bd-9f4c-be67f1d34588"
      },
      "execution_count": 111,
      "outputs": [
        {
          "output_type": "execute_result",
          "data": {
            "text/plain": [
              "[StringIndexer_a4444101dbbe]"
            ]
          },
          "metadata": {},
          "execution_count": 111
        }
      ]
    },
    {
      "cell_type": "code",
      "source": [
        "one_hot_encoder=[\n",
        "    OneHotEncoder(\n",
        "        inputCols=[f\"{x}_StringIndexer\" for x in catCols],\n",
        "        outputCols=[f\"{x}_OneHotEncoder\" for x in catCols],\n",
        "    )\n",
        "]"
      ],
      "metadata": {
        "id": "yInPAopaEQz4"
      },
      "execution_count": 112,
      "outputs": []
    },
    {
      "cell_type": "code",
      "source": [
        "one_hot_encoder"
      ],
      "metadata": {
        "colab": {
          "base_uri": "https://localhost:8080/"
        },
        "id": "X1pnMWNpaWmx",
        "outputId": "5d8a1ca3-712d-41ab-9646-17cadc032200"
      },
      "execution_count": 113,
      "outputs": [
        {
          "output_type": "execute_result",
          "data": {
            "text/plain": [
              "[OneHotEncoder_0cb0c5dc9f42]"
            ]
          },
          "metadata": {},
          "execution_count": 113
        }
      ]
    },
    {
      "cell_type": "markdown",
      "source": [
        "## Vector Assembler "
      ],
      "metadata": {
        "id": "gM1FqgLZJmCM"
      }
    },
    {
      "cell_type": "code",
      "source": [
        "#Combines values of i/p columns into a single Vector\n",
        "from pyspark.ml.feature import VectorAssembler"
      ],
      "metadata": {
        "id": "Zan6b_8gEmq7"
      },
      "execution_count": 114,
      "outputs": []
    },
    {
      "cell_type": "code",
      "source": [
        "assemblerInput=[x for x in numCols]\n",
        "assemblerInput+=[f\"{x}_OneHotEncoder\" for x in catCols]"
      ],
      "metadata": {
        "id": "3GbnpbLUHsWp"
      },
      "execution_count": 115,
      "outputs": []
    },
    {
      "cell_type": "code",
      "source": [
        "assemblerInput"
      ],
      "metadata": {
        "colab": {
          "base_uri": "https://localhost:8080/"
        },
        "id": "FfVIiHwFIdn7",
        "outputId": "d391e03c-90fc-478a-d847-d2c85d6a3759"
      },
      "execution_count": 116,
      "outputs": [
        {
          "output_type": "execute_result",
          "data": {
            "text/plain": [
              "['oldbalanceOrg', 'newbalanceOrig', 'amount', 'type_OneHotEncoder']"
            ]
          },
          "metadata": {},
          "execution_count": 116
        }
      ]
    },
    {
      "cell_type": "code",
      "source": [
        "vector_assembler=VectorAssembler(\n",
        "    inputCols=assemblerInput,outputCol=\"VectorAssembler_features\"\n",
        ")"
      ],
      "metadata": {
        "id": "HJd0zTBUIfSo"
      },
      "execution_count": 117,
      "outputs": []
    },
    {
      "cell_type": "markdown",
      "source": [
        "## PipeLine"
      ],
      "metadata": {
        "id": "DpCwOMvQJf-H"
      }
    },
    {
      "cell_type": "code",
      "source": [
        "#create a pipeline for preprocessing stages\n",
        "stages=[]\n",
        "stages+=string_indexer\n",
        "stages+=one_hot_encoder\n",
        "stages+=[vector_assembler]"
      ],
      "metadata": {
        "id": "rpPKhMT-IoSv"
      },
      "execution_count": 118,
      "outputs": []
    },
    {
      "cell_type": "code",
      "source": [
        "stages"
      ],
      "metadata": {
        "colab": {
          "base_uri": "https://localhost:8080/"
        },
        "id": "ACzZEWd9LrsF",
        "outputId": "36e5826a-a096-483e-d646-abff443b39a5"
      },
      "execution_count": 119,
      "outputs": [
        {
          "output_type": "execute_result",
          "data": {
            "text/plain": [
              "[StringIndexer_a4444101dbbe,\n",
              " OneHotEncoder_0cb0c5dc9f42,\n",
              " VectorAssembler_25bcb018d9b5]"
            ]
          },
          "metadata": {},
          "execution_count": 119
        }
      ]
    },
    {
      "cell_type": "code",
      "source": [
        "%%time\n",
        "from pyspark.ml import Pipeline\n",
        "\n",
        "pipeline=Pipeline().setStages(stages)\n",
        "model=pipeline.fit(train)\n",
        "\n",
        "pp_df=model.transform(test)"
      ],
      "metadata": {
        "colab": {
          "base_uri": "https://localhost:8080/"
        },
        "id": "pvcy7PjjLs6M",
        "outputId": "956f21c5-5ea9-49f4-8a89-cdfb1796e5f5"
      },
      "execution_count": 120,
      "outputs": [
        {
          "output_type": "stream",
          "name": "stdout",
          "text": [
            "CPU times: user 273 ms, sys: 47.9 ms, total: 321 ms\n",
            "Wall time: 41.3 s\n"
          ]
        }
      ]
    },
    {
      "cell_type": "code",
      "source": [
        "pp_df.select(\n",
        "    \"type\",\"amount\",\"oldbalanceOrg\",\"newbalanceOrig\",\"VectorAssembler_features\",   \n",
        ").show(truncate=False)"
      ],
      "metadata": {
        "colab": {
          "base_uri": "https://localhost:8080/"
        },
        "id": "f3QhzEZ_MP5D",
        "outputId": "d4f9f3eb-0c60-4367-dc90-fb80d64c8bab"
      },
      "execution_count": 121,
      "outputs": [
        {
          "output_type": "stream",
          "name": "stdout",
          "text": [
            "+-------+-------+-------------+--------------+---------------------------------+\n",
            "|type   |amount |oldbalanceOrg|newbalanceOrig|VectorAssembler_features         |\n",
            "+-------+-------+-------------+--------------+---------------------------------+\n",
            "|CASH_IN|22.31  |0.0          |22.31         |(7,[1,2,5],[22.31,22.31,1.0])    |\n",
            "|CASH_IN|130.24 |0.0          |130.24        |(7,[1,2,5],[130.24,130.24,1.0])  |\n",
            "|CASH_IN|367.6  |0.0          |367.6         |(7,[1,2,5],[367.6,367.6,1.0])    |\n",
            "|CASH_IN|430.61 |0.0          |430.61        |(7,[1,2,5],[430.61,430.61,1.0])  |\n",
            "|CASH_IN|500.71 |0.0          |500.71        |(7,[1,2,5],[500.71,500.71,1.0])  |\n",
            "|CASH_IN|1020.78|0.0          |1020.78       |(7,[1,2,5],[1020.78,1020.78,1.0])|\n",
            "|CASH_IN|1117.04|0.0          |1117.04       |(7,[1,2,5],[1117.04,1117.04,1.0])|\n",
            "|CASH_IN|1187.82|0.0          |1187.82       |(7,[1,2,5],[1187.82,1187.82,1.0])|\n",
            "|CASH_IN|1279.33|0.0          |1279.33       |(7,[1,2,5],[1279.33,1279.33,1.0])|\n",
            "|CASH_IN|1561.31|0.0          |1561.31       |(7,[1,2,5],[1561.31,1561.31,1.0])|\n",
            "|CASH_IN|1584.77|0.0          |1584.77       |(7,[1,2,5],[1584.77,1584.77,1.0])|\n",
            "|CASH_IN|1585.07|0.0          |1585.07       |(7,[1,2,5],[1585.07,1585.07,1.0])|\n",
            "|CASH_IN|1721.54|0.0          |1721.54       |(7,[1,2,5],[1721.54,1721.54,1.0])|\n",
            "|CASH_IN|1984.92|0.0          |1984.92       |(7,[1,2,5],[1984.92,1984.92,1.0])|\n",
            "|CASH_IN|2154.46|0.0          |2154.46       |(7,[1,2,5],[2154.46,2154.46,1.0])|\n",
            "|CASH_IN|2294.19|0.0          |2294.19       |(7,[1,2,5],[2294.19,2294.19,1.0])|\n",
            "|CASH_IN|2495.31|0.0          |2495.31       |(7,[1,2,5],[2495.31,2495.31,1.0])|\n",
            "|CASH_IN|2658.23|0.0          |2658.23       |(7,[1,2,5],[2658.23,2658.23,1.0])|\n",
            "|CASH_IN|2828.88|0.0          |2828.88       |(7,[1,2,5],[2828.88,2828.88,1.0])|\n",
            "|CASH_IN|3116.4 |0.0          |3116.4        |(7,[1,2,5],[3116.4,3116.4,1.0])  |\n",
            "+-------+-------+-------------+--------------+---------------------------------+\n",
            "only showing top 20 rows\n",
            "\n"
          ]
        }
      ]
    },
    {
      "cell_type": "markdown",
      "source": [
        "## Logistic Regression"
      ],
      "metadata": {
        "id": "avUpc_YOZtcy"
      }
    },
    {
      "cell_type": "code",
      "source": [
        "from pyspark.ml.classification import LogisticRegression"
      ],
      "metadata": {
        "id": "_wtm5EqyZsnH"
      },
      "execution_count": 124,
      "outputs": []
    },
    {
      "cell_type": "code",
      "source": [
        "data=pp_df.select(\n",
        "    F.col(\"VectorAssembler_features\").alias(\"features\"),\n",
        "    F.col(\"isFraud\").alias(\"label\"),\n",
        ")"
      ],
      "metadata": {
        "id": "hCLTHrUL1_u8"
      },
      "execution_count": 125,
      "outputs": []
    },
    {
      "cell_type": "code",
      "source": [
        "data.show(5,truncate=False)"
      ],
      "metadata": {
        "colab": {
          "base_uri": "https://localhost:8080/"
        },
        "id": "T1WlCun62KV4",
        "outputId": "3eebe46c-1597-4fe8-9ba7-396a96e4e30c"
      },
      "execution_count": 126,
      "outputs": [
        {
          "output_type": "stream",
          "name": "stdout",
          "text": [
            "+-------------------------------+-----+\n",
            "|features                       |label|\n",
            "+-------------------------------+-----+\n",
            "|(7,[1,2,5],[22.31,22.31,1.0])  |0    |\n",
            "|(7,[1,2,5],[130.24,130.24,1.0])|0    |\n",
            "|(7,[1,2,5],[367.6,367.6,1.0])  |0    |\n",
            "|(7,[1,2,5],[430.61,430.61,1.0])|0    |\n",
            "|(7,[1,2,5],[500.71,500.71,1.0])|0    |\n",
            "+-------------------------------+-----+\n",
            "only showing top 5 rows\n",
            "\n"
          ]
        }
      ]
    },
    {
      "cell_type": "code",
      "source": [
        "%%time\n",
        "model=LogisticRegression().fit(data)"
      ],
      "metadata": {
        "colab": {
          "base_uri": "https://localhost:8080/"
        },
        "id": "jFIw53OJ2NrM",
        "outputId": "e99324c0-bddb-4957-af33-de26fab28b19"
      },
      "execution_count": 127,
      "outputs": [
        {
          "output_type": "stream",
          "name": "stdout",
          "text": [
            "CPU times: user 611 ms, sys: 96 ms, total: 707 ms\n",
            "Wall time: 2min 3s\n"
          ]
        }
      ]
    },
    {
      "cell_type": "code",
      "source": [
        "model.summary.areaUnderROC"
      ],
      "metadata": {
        "colab": {
          "base_uri": "https://localhost:8080/"
        },
        "id": "8D-pMK-O2WG_",
        "outputId": "7591c121-2d7e-442a-c499-39d566f5005f"
      },
      "execution_count": 128,
      "outputs": [
        {
          "output_type": "execute_result",
          "data": {
            "text/plain": [
              "0.9924047180812329"
            ]
          },
          "metadata": {},
          "execution_count": 128
        }
      ]
    },
    {
      "cell_type": "code",
      "source": [
        "model.summary.pr.show()"
      ],
      "metadata": {
        "colab": {
          "base_uri": "https://localhost:8080/"
        },
        "id": "ZB2P_HnS25p3",
        "outputId": "dd62c32b-117b-4ed0-d47c-d16d1593d3cf"
      },
      "execution_count": 129,
      "outputs": [
        {
          "output_type": "stream",
          "name": "stdout",
          "text": [
            "+------------------+-------------------+\n",
            "|            recall|          precision|\n",
            "+------------------+-------------------+\n",
            "|               0.0|   0.91701244813278|\n",
            "|0.3695652173913043|   0.91701244813278|\n",
            "|0.4887123745819398| 0.6660968660968661|\n",
            "|0.5468227424749164| 0.5137470542026709|\n",
            "|0.5915551839464883|0.42403356308061135|\n",
            "|             0.625|0.36216085271317827|\n",
            "|0.6609531772575251|0.32140678999796707|\n",
            "|0.6860367892976589| 0.2873905429071804|\n",
            "|0.7077759197324415| 0.2604214736194432|\n",
            "|0.7290969899665551|0.23916620954470652|\n",
            "|0.7483277591973244|0.22145243102808362|\n",
            "|0.7663043478260869|0.20655848546315078|\n",
            "|0.7792642140468228|0.19286083807553026|\n",
            "| 0.794314381270903|0.18171384850803365|\n",
            "|0.8051839464882943| 0.1712456655108029|\n",
            "|0.8068561872909699|0.16032563548762252|\n",
            "|0.8093645484949833|0.15090809883856887|\n",
            "|0.8122909698996655|0.14265785609397943|\n",
            "|0.8152173913043478|0.13531330233849143|\n",
            "| 0.818561872909699| 0.1287988422575977|\n",
            "+------------------+-------------------+\n",
            "only showing top 20 rows\n",
            "\n"
          ]
        }
      ]
    }
  ]
}